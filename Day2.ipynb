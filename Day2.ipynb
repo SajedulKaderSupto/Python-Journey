{
 "cells": [
  {
   "cell_type": "markdown",
   "id": "2cad393b-28a3-4e4c-9f86-28ad39c8f6b0",
   "metadata": {},
   "source": [
    "sajedul kader"
   ]
  },
  {
   "cell_type": "code",
   "execution_count": 1,
   "id": "6a0844b3-969d-4670-b698-52ca950ac24e",
   "metadata": {},
   "outputs": [
    {
     "name": "stdout",
     "output_type": "stream",
     "text": [
      "hello world\n"
     ]
    }
   ],
   "source": [
    "print('hello world')"
   ]
  },
  {
   "cell_type": "code",
   "execution_count": 2,
   "id": "6aebc0fe-a36e-4296-beab-6c5744d83a1c",
   "metadata": {},
   "outputs": [
    {
     "name": "stdout",
     "output_type": "stream",
     "text": [
      "hi bro\n"
     ]
    }
   ],
   "source": [
    " var=\"hi bro\"\n",
    "print(var)"
   ]
  },
  {
   "cell_type": "code",
   "execution_count": 12,
   "id": "7ac06259-0add-4362-954c-f62de2daad85",
   "metadata": {},
   "outputs": [
    {
     "name": "stdout",
     "output_type": "stream",
     "text": [
      "my name is supto sks\n"
     ]
    }
   ],
   "source": [
    "var=\"sks\"\n",
    "print('my name is supto '+var)"
   ]
  },
  {
   "cell_type": "code",
   "execution_count": 11,
   "id": "82356399-0300-4d67-ba3b-03cf5e0ddc9c",
   "metadata": {},
   "outputs": [
    {
     "data": {
      "text/plain": [
       "1974572075840"
      ]
     },
     "execution_count": 11,
     "metadata": {},
     "output_type": "execute_result"
    }
   ],
   "source": [
    "id(var)"
   ]
  },
  {
   "cell_type": "code",
   "execution_count": 3,
   "id": "919c5deb-fcc0-468c-8bc7-c6e80d0c478f",
   "metadata": {},
   "outputs": [
    {
     "data": {
      "text/plain": [
       "47"
      ]
     },
     "execution_count": 3,
     "metadata": {},
     "output_type": "execute_result"
    }
   ],
   "source": [
    "import sys\n",
    "sys.getsizeof(var)"
   ]
  },
  {
   "cell_type": "code",
   "execution_count": 14,
   "id": "3d0bfea8-91e3-445c-bdf0-63d43ce6bc38",
   "metadata": {},
   "outputs": [],
   "source": [
    "x=100"
   ]
  },
  {
   "cell_type": "code",
   "execution_count": 15,
   "id": "f64ffc2a-d55a-4013-9dfd-73076c68b757",
   "metadata": {},
   "outputs": [
    {
     "data": {
      "text/plain": [
       "100"
      ]
     },
     "execution_count": 15,
     "metadata": {},
     "output_type": "execute_result"
    }
   ],
   "source": [
    "x"
   ]
  },
  {
   "cell_type": "code",
   "execution_count": 4,
   "id": "778ad9d0-9571-43ed-a9b5-8e3b0d01c5ab",
   "metadata": {},
   "outputs": [
    {
     "ename": "NameError",
     "evalue": "name 'x' is not defined",
     "output_type": "error",
     "traceback": [
      "\u001b[1;31m---------------------------------------------------------------------------\u001b[0m",
      "\u001b[1;31mNameError\u001b[0m                                 Traceback (most recent call last)",
      "Cell \u001b[1;32mIn[4], line 1\u001b[0m\n\u001b[1;32m----> 1\u001b[0m \u001b[38;5;28mid\u001b[39m(x)\n",
      "\u001b[1;31mNameError\u001b[0m: name 'x' is not defined"
     ]
    }
   ],
   "source": [
    "id(x)"
   ]
  },
  {
   "cell_type": "markdown",
   "id": "6de881ed-c111-45a7-af53-f2f196205be0",
   "metadata": {},
   "source": [
    "Local Vs Global"
   ]
  },
  {
   "cell_type": "code",
   "execution_count": 18,
   "id": "d2cc6a49-e76d-46b1-80bf-376f66a9230f",
   "metadata": {},
   "outputs": [
    {
     "name": "stdout",
     "output_type": "stream",
     "text": [
      "the num is  1000\n"
     ]
    }
   ],
   "source": [
    "x=1000\n",
    "\n",
    "def func1():\n",
    "    print(\"the num is \",x)\n",
    "func1()"
   ]
  },
  {
   "cell_type": "code",
   "execution_count": null,
   "id": "577dd612-6eb1-40d2-9e4e-7646db2ad42f",
   "metadata": {},
   "outputs": [],
   "source": []
  }
 ],
 "metadata": {
  "kernelspec": {
   "display_name": "Python 3 (ipykernel)",
   "language": "python",
   "name": "python3"
  },
  "language_info": {
   "codemirror_mode": {
    "name": "ipython",
    "version": 3
   },
   "file_extension": ".py",
   "mimetype": "text/x-python",
   "name": "python",
   "nbconvert_exporter": "python",
   "pygments_lexer": "ipython3",
   "version": "3.12.7"
  }
 },
 "nbformat": 4,
 "nbformat_minor": 5
}
