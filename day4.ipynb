{
 "cells": [
  {
   "cell_type": "code",
   "execution_count": 1,
   "id": "2988f35c-0542-48d0-931e-27ba9b25b0f7",
   "metadata": {},
   "outputs": [],
   "source": [
    "x=10\n",
    "y=10.5\n",
    "z=10+5j"
   ]
  },
  {
   "cell_type": "code",
   "execution_count": 2,
   "id": "76b41482-eff9-453a-b366-5f8c620f8195",
   "metadata": {},
   "outputs": [
    {
     "data": {
      "text/plain": [
       "complex"
      ]
     },
     "execution_count": 2,
     "metadata": {},
     "output_type": "execute_result"
    }
   ],
   "source": [
    "type(z)"
   ]
  },
  {
   "cell_type": "code",
   "execution_count": 3,
   "id": "9995fdab-f896-4fb2-954f-15d4f76fd079",
   "metadata": {},
   "outputs": [
    {
     "data": {
      "text/plain": [
       "True"
      ]
     },
     "execution_count": 3,
     "metadata": {},
     "output_type": "execute_result"
    }
   ],
   "source": [
    "isinstance(z,complex)"
   ]
  },
  {
   "cell_type": "code",
   "execution_count": 4,
   "id": "0635052d-8df0-4997-9671-105ea418e860",
   "metadata": {},
   "outputs": [],
   "source": [
    "n=float(x)"
   ]
  },
  {
   "cell_type": "code",
   "execution_count": 5,
   "id": "d39599a3-b370-4338-9191-e601845bca55",
   "metadata": {},
   "outputs": [
    {
     "data": {
      "text/plain": [
       "10.0"
      ]
     },
     "execution_count": 5,
     "metadata": {},
     "output_type": "execute_result"
    }
   ],
   "source": [
    "n"
   ]
  },
  {
   "cell_type": "code",
   "execution_count": 6,
   "id": "f3876bb0-4eae-4276-8d7c-76e8f9181e1a",
   "metadata": {},
   "outputs": [
    {
     "ename": "TypeError",
     "evalue": "int() argument must be a string, a bytes-like object or a real number, not 'complex'",
     "output_type": "error",
     "traceback": [
      "\u001b[1;31m---------------------------------------------------------------------------\u001b[0m",
      "\u001b[1;31mTypeError\u001b[0m                                 Traceback (most recent call last)",
      "Cell \u001b[1;32mIn[6], line 1\u001b[0m\n\u001b[1;32m----> 1\u001b[0m n\u001b[38;5;241m=\u001b[39m\u001b[38;5;28mint\u001b[39m(z)\n",
      "\u001b[1;31mTypeError\u001b[0m: int() argument must be a string, a bytes-like object or a real number, not 'complex'"
     ]
    }
   ],
   "source": [
    "n=int(z)"
   ]
  },
  {
   "cell_type": "code",
   "execution_count": 7,
   "id": "5e61124c-dc31-4e8c-b5a3-8d9b11cea200",
   "metadata": {},
   "outputs": [
    {
     "name": "stdin",
     "output_type": "stream",
     "text": [
      "enter ur number 4\n"
     ]
    }
   ],
   "source": [
    "n=complex(input('enter ur number'))"
   ]
  },
  {
   "cell_type": "code",
   "execution_count": 8,
   "id": "6b5a313f-5d7f-4a42-b745-1d1ec4d7e14b",
   "metadata": {},
   "outputs": [
    {
     "data": {
      "text/plain": [
       "(4+0j)"
      ]
     },
     "execution_count": 8,
     "metadata": {},
     "output_type": "execute_result"
    }
   ],
   "source": [
    "n"
   ]
  },
  {
   "cell_type": "markdown",
   "id": "55a42b5b-1123-495d-983d-34776d7525ca",
   "metadata": {},
   "source": [
    "sequece data"
   ]
  },
  {
   "cell_type": "code",
   "execution_count": 10,
   "id": "79c2117f-c3fd-498d-a849-7033b78c434c",
   "metadata": {},
   "outputs": [],
   "source": [
    "l=[1,2,3,4,True,[1,2],'data',(1,2,3,4)]"
   ]
  },
  {
   "cell_type": "code",
   "execution_count": 11,
   "id": "37b44272-33f9-4ffc-b4da-6c1d9498a6d6",
   "metadata": {},
   "outputs": [
    {
     "data": {
      "text/plain": [
       "list"
      ]
     },
     "execution_count": 11,
     "metadata": {},
     "output_type": "execute_result"
    }
   ],
   "source": [
    "type(l)"
   ]
  },
  {
   "cell_type": "code",
   "execution_count": 12,
   "id": "f29fdf10-e500-49a5-a9b1-a1fa19138152",
   "metadata": {},
   "outputs": [],
   "source": [
    "t=(21,23,23,33,'ai')"
   ]
  },
  {
   "cell_type": "code",
   "execution_count": 13,
   "id": "84b9aba0-1576-4988-81d8-01e1bbbb015e",
   "metadata": {},
   "outputs": [
    {
     "data": {
      "text/plain": [
       "23"
      ]
     },
     "execution_count": 13,
     "metadata": {},
     "output_type": "execute_result"
    }
   ],
   "source": [
    "t[1]"
   ]
  },
  {
   "cell_type": "code",
   "execution_count": 14,
   "id": "1a333b33-565c-49f6-b2f2-113ee2b0078e",
   "metadata": {},
   "outputs": [
    {
     "data": {
      "text/plain": [
       "(21, 23, 23, 33)"
      ]
     },
     "execution_count": 14,
     "metadata": {},
     "output_type": "execute_result"
    }
   ],
   "source": [
    "t[0:4]"
   ]
  },
  {
   "cell_type": "code",
   "execution_count": 16,
   "id": "ecba4fa8-2659-4532-8538-33356b403f91",
   "metadata": {},
   "outputs": [],
   "source": [
    "x=range(10)"
   ]
  },
  {
   "cell_type": "code",
   "execution_count": 17,
   "id": "c9d12f2f-bc68-48aa-bc97-2467ebd04643",
   "metadata": {},
   "outputs": [
    {
     "name": "stdout",
     "output_type": "stream",
     "text": [
      "0\n",
      "1\n",
      "2\n",
      "3\n",
      "4\n",
      "5\n",
      "6\n",
      "7\n",
      "8\n",
      "9\n"
     ]
    }
   ],
   "source": [
    "for i in x:\n",
    "    print(i)"
   ]
  },
  {
   "cell_type": "code",
   "execution_count": 23,
   "id": "eaa8ce3f-dcd9-4b0a-9b35-b0c151e3745c",
   "metadata": {},
   "outputs": [],
   "source": [
    "import array as ar\n",
    "a=ar.array('i',[1,2,3,4])"
   ]
  },
  {
   "cell_type": "code",
   "execution_count": 24,
   "id": "8692dd66-542f-4e40-a453-a60142df3e27",
   "metadata": {},
   "outputs": [
    {
     "data": {
      "text/plain": [
       "array.array"
      ]
     },
     "execution_count": 24,
     "metadata": {},
     "output_type": "execute_result"
    }
   ],
   "source": [
    "type(a)"
   ]
  },
  {
   "cell_type": "code",
   "execution_count": 25,
   "id": "2a2c8b1a-fd91-464d-9d25-4cfffff69780",
   "metadata": {},
   "outputs": [],
   "source": [
    "s={1,2,3,4}"
   ]
  },
  {
   "cell_type": "code",
   "execution_count": 26,
   "id": "60a2f454-f316-4f6b-8b68-719beaa145f7",
   "metadata": {},
   "outputs": [
    {
     "data": {
      "text/plain": [
       "set"
      ]
     },
     "execution_count": 26,
     "metadata": {},
     "output_type": "execute_result"
    }
   ],
   "source": [
    "type(s)"
   ]
  },
  {
   "cell_type": "code",
   "execution_count": null,
   "id": "d15e905c-6c68-480c-97e6-42007491a082",
   "metadata": {},
   "outputs": [],
   "source": []
  }
 ],
 "metadata": {
  "kernelspec": {
   "display_name": "Python 3 (ipykernel)",
   "language": "python",
   "name": "python3"
  },
  "language_info": {
   "codemirror_mode": {
    "name": "ipython",
    "version": 3
   },
   "file_extension": ".py",
   "mimetype": "text/x-python",
   "name": "python",
   "nbconvert_exporter": "python",
   "pygments_lexer": "ipython3",
   "version": "3.12.7"
  }
 },
 "nbformat": 4,
 "nbformat_minor": 5
}
