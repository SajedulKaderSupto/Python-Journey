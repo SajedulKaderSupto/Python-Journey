{
 "cells": [
  {
   "cell_type": "code",
   "execution_count": 5,
   "id": "326f3627-ccb6-4138-9278-599d624e7cc5",
   "metadata": {},
   "outputs": [
    {
     "name": "stdout",
     "output_type": "stream",
     "text": [
      "fk u\n"
     ]
    }
   ],
   "source": [
    "x=100\n",
    "y=100\n",
    "if x>y:\n",
    "    print('khan and man')\n",
    "if y>x:\n",
    "    print('yeah babe')\n",
    "else:\n",
    "    print('fk u')"
   ]
  },
  {
   "cell_type": "code",
   "execution_count": 8,
   "id": "6763dd97-f1e4-4699-9871-bb62391a79c9",
   "metadata": {},
   "outputs": [
    {
     "name": "stdin",
     "output_type": "stream",
     "text": [
      "enter any number 20\n"
     ]
    },
    {
     "name": "stdout",
     "output_type": "stream",
     "text": [
      "20.0 divisible by 5 and 2\n"
     ]
    }
   ],
   "source": [
    "num=float(input('enter any number'))\n",
    "if num%2==0:\n",
    "    if num%5==0:\n",
    "        print(num,'divisible by 5 and 2')\n",
    "    else:\n",
    "        print('NO 1')\n",
    "else:\n",
    "    print('no 2')"
   ]
  },
  {
   "cell_type": "code",
   "execution_count": null,
   "id": "89872688-060f-4dc7-a115-2a49ab68be49",
   "metadata": {},
   "outputs": [],
   "source": []
  }
 ],
 "metadata": {
  "kernelspec": {
   "display_name": "Python 3 (ipykernel)",
   "language": "python",
   "name": "python3"
  },
  "language_info": {
   "codemirror_mode": {
    "name": "ipython",
    "version": 3
   },
   "file_extension": ".py",
   "mimetype": "text/x-python",
   "name": "python",
   "nbconvert_exporter": "python",
   "pygments_lexer": "ipython3",
   "version": "3.12.7"
  }
 },
 "nbformat": 4,
 "nbformat_minor": 5
}
