{
 "cells": [
  {
   "cell_type": "code",
   "execution_count": 3,
   "id": "df253191-9989-4fc3-8e79-ec8d7e2b0dcb",
   "metadata": {},
   "outputs": [
    {
     "name": "stdin",
     "output_type": "stream",
     "text": [
      " 10\n",
      " 20\n"
     ]
    }
   ],
   "source": [
    "x=input()\n",
    "y=input()"
   ]
  },
  {
   "cell_type": "code",
   "execution_count": 4,
   "id": "d22a2d5f-ab44-4cee-8c29-82db844d530b",
   "metadata": {},
   "outputs": [
    {
     "data": {
      "text/plain": [
       "'1020'"
      ]
     },
     "execution_count": 4,
     "metadata": {},
     "output_type": "execute_result"
    }
   ],
   "source": [
    "x+y"
   ]
  },
  {
   "cell_type": "code",
   "execution_count": 5,
   "id": "06f40480-d022-43e7-9a28-3123c2737526",
   "metadata": {},
   "outputs": [
    {
     "data": {
      "text/plain": [
       "str"
      ]
     },
     "execution_count": 5,
     "metadata": {},
     "output_type": "execute_result"
    }
   ],
   "source": [
    "type(x)"
   ]
  },
  {
   "cell_type": "code",
   "execution_count": 6,
   "id": "2b5e7c2e-4b0d-420b-ac83-e5d32f91fb4f",
   "metadata": {},
   "outputs": [
    {
     "data": {
      "text/plain": [
       "str"
      ]
     },
     "execution_count": 6,
     "metadata": {},
     "output_type": "execute_result"
    }
   ],
   "source": [
    "type(y)"
   ]
  },
  {
   "cell_type": "code",
   "execution_count": 7,
   "id": "266bcd56-6e62-4f58-af1e-9b491286fa24",
   "metadata": {},
   "outputs": [],
   "source": [
    "x=int(x)\n",
    "y=int(y)"
   ]
  },
  {
   "cell_type": "code",
   "execution_count": 8,
   "id": "c7ab5113-bd62-418c-b0a5-fa8ceb270953",
   "metadata": {},
   "outputs": [
    {
     "data": {
      "text/plain": [
       "30"
      ]
     },
     "execution_count": 8,
     "metadata": {},
     "output_type": "execute_result"
    }
   ],
   "source": [
    "x+y"
   ]
  },
  {
   "cell_type": "code",
   "execution_count": 9,
   "id": "a1abbdce-8367-4831-944c-2c57201bd05c",
   "metadata": {},
   "outputs": [
    {
     "data": {
      "text/plain": [
       "int"
      ]
     },
     "execution_count": 9,
     "metadata": {},
     "output_type": "execute_result"
    }
   ],
   "source": [
    "type(x)"
   ]
  },
  {
   "cell_type": "code",
   "execution_count": 11,
   "id": "5a33e5a8-8290-465b-a4cf-00e65977e8f5",
   "metadata": {},
   "outputs": [
    {
     "name": "stdin",
     "output_type": "stream",
     "text": [
      "Enter ur 2nd number 23.5\n"
     ]
    }
   ],
   "source": [
    "y=float(input('Enter ur 2nd number'))"
   ]
  },
  {
   "cell_type": "code",
   "execution_count": 12,
   "id": "98e7f281-2d10-41ac-afae-abc65dc6f79f",
   "metadata": {},
   "outputs": [],
   "source": [
    "data=\"60 days of python\""
   ]
  },
  {
   "cell_type": "code",
   "execution_count": 13,
   "id": "a7dc3122-2713-431e-9223-b61ac0957705",
   "metadata": {},
   "outputs": [
    {
     "data": {
      "text/plain": [
       "17"
      ]
     },
     "execution_count": 13,
     "metadata": {},
     "output_type": "execute_result"
    }
   ],
   "source": [
    "len(data)"
   ]
  },
  {
   "cell_type": "code",
   "execution_count": 14,
   "id": "62780215-d25a-42ee-8dc1-ac2d00fb4b74",
   "metadata": {},
   "outputs": [
    {
     "data": {
      "text/plain": [
       "58"
      ]
     },
     "execution_count": 14,
     "metadata": {},
     "output_type": "execute_result"
    }
   ],
   "source": [
    "import sys\n",
    "sys.getsizeof(data)"
   ]
  },
  {
   "cell_type": "code",
   "execution_count": 19,
   "id": "e3052eae-6f40-4ed5-b035-55c1603b3e4c",
   "metadata": {},
   "outputs": [
    {
     "data": {
      "text/plain": [
       "0"
      ]
     },
     "execution_count": 19,
     "metadata": {},
     "output_type": "execute_result"
    }
   ],
   "source": [
    "data.count('supto')"
   ]
  },
  {
   "cell_type": "raw",
   "id": "e40c6d63-e8f4-4d6e-95d7-5b92143c4f54",
   "metadata": {},
   "source": [
    "PYTHON STRING METHOD"
   ]
  },
  {
   "cell_type": "code",
   "execution_count": 20,
   "id": "9edaa7a5-4bbe-4b68-a4cf-6e5878c3dd7b",
   "metadata": {},
   "outputs": [
    {
     "data": {
      "text/plain": [
       "2"
      ]
     },
     "execution_count": 20,
     "metadata": {},
     "output_type": "execute_result"
    }
   ],
   "source": [
    "data=\"60 days of python\"\n",
    "data.find(' ') #find value from string"
   ]
  },
  {
   "cell_type": "code",
   "execution_count": 21,
   "id": "ef09247e-6266-4305-8f78-2c0f20169998",
   "metadata": {},
   "outputs": [
    {
     "data": {
      "text/plain": [
       "14"
      ]
     },
     "execution_count": 21,
     "metadata": {},
     "output_type": "execute_result"
    }
   ],
   "source": [
    "data.find('h')"
   ]
  },
  {
   "cell_type": "code",
   "execution_count": 22,
   "id": "6199ef54-ca8b-42c5-8e25-a252956043b9",
   "metadata": {},
   "outputs": [
    {
     "data": {
      "text/plain": [
       "6"
      ]
     },
     "execution_count": 22,
     "metadata": {},
     "output_type": "execute_result"
    }
   ],
   "source": [
    "data.find('s',3,12)"
   ]
  },
  {
   "cell_type": "code",
   "execution_count": 23,
   "id": "c15404c8-595f-4d3a-bd2a-4080c36423fd",
   "metadata": {},
   "outputs": [
    {
     "ename": "ValueError",
     "evalue": "substring not found",
     "output_type": "error",
     "traceback": [
      "\u001b[1;31m---------------------------------------------------------------------------\u001b[0m",
      "\u001b[1;31mValueError\u001b[0m                                Traceback (most recent call last)",
      "Cell \u001b[1;32mIn[23], line 1\u001b[0m\n\u001b[1;32m----> 1\u001b[0m data\u001b[38;5;241m.\u001b[39mindex(\u001b[38;5;124m'\u001b[39m\u001b[38;5;124mpori\u001b[39m\u001b[38;5;124m'\u001b[39m)\n",
      "\u001b[1;31mValueError\u001b[0m: substring not found"
     ]
    }
   ],
   "source": [
    "data.index('pori')"
   ]
  },
  {
   "cell_type": "code",
   "execution_count": 24,
   "id": "fe2ca969-eb6b-4d2a-ac00-a3f8aa68db2d",
   "metadata": {},
   "outputs": [
    {
     "data": {
      "text/plain": [
       "'60 DAYS OF PYTHON'"
      ]
     },
     "execution_count": 24,
     "metadata": {},
     "output_type": "execute_result"
    }
   ],
   "source": [
    "data.upper()"
   ]
  },
  {
   "cell_type": "code",
   "execution_count": 25,
   "id": "6997f7dd-69a1-49b3-8179-20b640fd1290",
   "metadata": {},
   "outputs": [],
   "source": [
    "x=\"sajedul kader\""
   ]
  },
  {
   "cell_type": "code",
   "execution_count": 26,
   "id": "95b9d1fa-ee6c-4929-ac99-b297b4f23823",
   "metadata": {},
   "outputs": [
    {
     "data": {
      "text/plain": [
       "'Sajedul kader'"
      ]
     },
     "execution_count": 26,
     "metadata": {},
     "output_type": "execute_result"
    }
   ],
   "source": [
    "x.capitalize() #only first alphabet"
   ]
  },
  {
   "cell_type": "code",
   "execution_count": 27,
   "id": "20c910ff-428b-4238-8e11-2b814b903b93",
   "metadata": {},
   "outputs": [
    {
     "data": {
      "text/plain": [
       "'SAJEDUL KADER'"
      ]
     },
     "execution_count": 27,
     "metadata": {},
     "output_type": "execute_result"
    }
   ],
   "source": [
    "x.swapcase()"
   ]
  },
  {
   "cell_type": "code",
   "execution_count": 28,
   "id": "3519596d-a268-434b-af8d-ccdd4f82e229",
   "metadata": {},
   "outputs": [
    {
     "data": {
      "text/plain": [
       "'Sajedul Kader'"
      ]
     },
     "execution_count": 28,
     "metadata": {},
     "output_type": "execute_result"
    }
   ],
   "source": [
    "x.title()"
   ]
  },
  {
   "cell_type": "code",
   "execution_count": 29,
   "id": "dcfcadfb-aacb-4009-aeed-f748f75871ca",
   "metadata": {},
   "outputs": [
    {
     "data": {
      "text/plain": [
       "False"
      ]
     },
     "execution_count": 29,
     "metadata": {},
     "output_type": "execute_result"
    }
   ],
   "source": [
    "x.isupper()\n"
   ]
  },
  {
   "cell_type": "code",
   "execution_count": 30,
   "id": "a3e1b74d-2beb-4a15-a05c-b2445338702f",
   "metadata": {},
   "outputs": [
    {
     "data": {
      "text/plain": [
       "False"
      ]
     },
     "execution_count": 30,
     "metadata": {},
     "output_type": "execute_result"
    }
   ],
   "source": [
    "x.isdigit()"
   ]
  },
  {
   "cell_type": "code",
   "execution_count": 31,
   "id": "05d47301-398e-4c0e-b625-648d12be942b",
   "metadata": {},
   "outputs": [
    {
     "data": {
      "text/plain": [
       "b'sajedul kader'"
      ]
     },
     "execution_count": 31,
     "metadata": {},
     "output_type": "execute_result"
    }
   ],
   "source": [
    "x.encode()"
   ]
  },
  {
   "cell_type": "code",
   "execution_count": 32,
   "id": "c9d1cb95-b26d-4172-8d1b-5e15565af63c",
   "metadata": {},
   "outputs": [
    {
     "data": {
      "text/plain": [
       "['sajedul', 'kader']"
      ]
     },
     "execution_count": 32,
     "metadata": {},
     "output_type": "execute_result"
    }
   ],
   "source": [
    "x.split()"
   ]
  },
  {
   "cell_type": "code",
   "execution_count": 33,
   "id": "5003fe18-71f8-44b3-942d-3edfedd8a971",
   "metadata": {},
   "outputs": [
    {
     "data": {
      "text/plain": [
       "'sajedul'"
      ]
     },
     "execution_count": 33,
     "metadata": {},
     "output_type": "execute_result"
    }
   ],
   "source": [
    "x.split()[0]"
   ]
  },
  {
   "cell_type": "code",
   "execution_count": 34,
   "id": "f72648c2-425b-4bdc-92f9-d45bdb70ab67",
   "metadata": {},
   "outputs": [
    {
     "data": {
      "text/plain": [
       "'                  sajedul kader                   '"
      ]
     },
     "execution_count": 34,
     "metadata": {},
     "output_type": "execute_result"
    }
   ],
   "source": [
    "x.center(50)"
   ]
  },
  {
   "cell_type": "code",
   "execution_count": 36,
   "id": "8cdf166f-0cdd-4f4e-b75c-9e744d260220",
   "metadata": {},
   "outputs": [
    {
     "data": {
      "text/plain": [
       "'supto kader'"
      ]
     },
     "execution_count": 36,
     "metadata": {},
     "output_type": "execute_result"
    }
   ],
   "source": [
    "x.replace('sajedul','supto')"
   ]
  },
  {
   "cell_type": "code",
   "execution_count": 37,
   "id": "d5d30f6d-f6b0-4f05-9593-7bd4f7948682",
   "metadata": {},
   "outputs": [
    {
     "name": "stdout",
     "output_type": "stream",
     "text": [
      "I HAVE  200 taka\n"
     ]
    }
   ],
   "source": [
    "x=10\n",
    "y=20\n",
    "z=x*y\n",
    "print('I HAVE ',z ,'taka')"
   ]
  },
  {
   "cell_type": "code",
   "execution_count": null,
   "id": "35ef72ce-9405-4534-a5cc-60f1c280088f",
   "metadata": {},
   "outputs": [],
   "source": []
  }
 ],
 "metadata": {
  "kernelspec": {
   "display_name": "Python 3 (ipykernel)",
   "language": "python",
   "name": "python3"
  },
  "language_info": {
   "codemirror_mode": {
    "name": "ipython",
    "version": 3
   },
   "file_extension": ".py",
   "mimetype": "text/x-python",
   "name": "python",
   "nbconvert_exporter": "python",
   "pygments_lexer": "ipython3",
   "version": "3.12.7"
  }
 },
 "nbformat": 4,
 "nbformat_minor": 5
}
